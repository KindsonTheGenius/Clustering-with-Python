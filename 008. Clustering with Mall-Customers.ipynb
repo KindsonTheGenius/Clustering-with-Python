{
 "cells": [
  {
   "cell_type": "code",
   "execution_count": 1,
   "metadata": {},
   "outputs": [],
   "source": [
    "import pandas as pd\n",
    "import numpy as np\n",
    "import matplotlib.pyplot as plt\n",
    "from scipy.spatial.distance import pdist, squareform\n",
    "from matplotlib import markers\n",
    "import itertools"
   ]
  },
  {
   "cell_type": "code",
   "execution_count": 4,
   "metadata": {},
   "outputs": [],
   "source": [
    "# importing the dataset\n",
    "dataset = pd.read_csv('D:\\Desktop\\BLOG\\AI and Machine Learning\\ML Class\\mall_customers.csv') # load the data into dataset"
   ]
  },
  {
   "cell_type": "code",
   "execution_count": 6,
   "metadata": {},
   "outputs": [],
   "source": [
    "X = dataset.iloc[:, [3, 4]].values #Select the Column 3 and 4 of all rows and load into X"
   ]
  },
  {
   "cell_type": "code",
   "execution_count": 8,
   "metadata": {},
   "outputs": [],
   "source": [
    "# creating and populating matrix for storing pairwise distances\n",
    "# diagonal elements are filled with np.inf to ease further processing\n",
    "distances = squareform(pdist(X, metric='euclidean'))\n",
    "np.fill_diagonal(distances, np.inf)"
   ]
  },
  {
   "cell_type": "code",
   "execution_count": 9,
   "metadata": {},
   "outputs": [],
   "source": [
    "# seting up colors and marker types to use for plotting\n",
    "markers = markers.MarkerStyle.markers\n",
    "colormap = plt.cm.Dark2.colors"
   ]
  },
  {
   "cell_type": "code",
   "execution_count": null,
   "metadata": {},
   "outputs": [],
   "source": [
    "# finds indices of closest clusters to be merged on next iteration\n",
    "# clusters_matrix - clusters matrix\n",
    "# distance_col, cluster_col - ids of columns keeping min distance and closest cluster id\n",
    "# returns cluster indices and distance between them\n",
    "def find_clusters_to_merge(clusters_matrix, distance_col, cluster_col):\n",
    "      \n",
    "    return None, None, None"
   ]
  },
  {
   "cell_type": "code",
   "execution_count": null,
   "metadata": {},
   "outputs": [],
   "source": [
    "# performs merge of clusters with indices c1_index, c2_index\n",
    "# updates single-linkage distances in clusters_matrix\n",
    "# updates cluster membership column in X_matrix\n",
    "# c1_index, c2_index - indices of clusters to be merged\n",
    "# X_matrix - data + cluster membership column\n",
    "# distance_col, cluster_col - ids of columns keeping min distance and closest cluster id\n",
    "# distances_matrix - initial pairwise distances matrix, good implementation doesn't need it in this method\n",
    "def single_link_merge(c1_index, c2_index, X_matrix, clusters_matrix, distance_col, cluster_col, distances_matrix):\n",
    "    # todo write your code here\n",
    "    pass"
   ]
  },
  {
   "cell_type": "code",
   "execution_count": null,
   "metadata": {},
   "outputs": [],
   "source": [
    "# the function which performs bottom-up (agglomerative) clustering\n",
    "# merge_func - one of the three merge functions above, each with different linkage function\n",
    "# X_matrix - data itself\n",
    "# threshold - maximum merge distance, we stop merging if we reached it. if None, merge until there only is one cluster\n",
    "def bottom_up_clustering(merge_func, X_matrix, distances_matrix, threshold=None):\n",
    "    num_points = X_matrix.shape[0]\n",
    "\n",
    "    # take dataset, add and initialize column for cluster membership\n",
    "    X_data = np.c_[X_matrix, np.arange(0, num_points, 1)]\n",
    "\n",
    "    # create clusters matrix, initially consisting of all points and pairwise distances\n",
    "    # with last columns being distance to closest cluster and id of that cluster\n",
    "    clusters = np.c_[distances_matrix, np.zeros((num_points, 2))]\n",
    "\n",
    "    # ids of added columns - column with minimal distances, column with closest cluster ids\n",
    "    dist_col_id = num_points\n",
    "    clust_col_id = num_points + 1\n",
    "\n",
    "    # calculate closest clusters and corresponding distances for each cluster\n",
    "    clusters[:, clust_col_id] = np.argmin(clusters[:, :num_points], axis=1)\n",
    "    clusters[:, dist_col_id] = np.amin(clusters[:, :num_points], axis=1)\n",
    "\n",
    "    # array for keeping distances between clusters that we are merging\n",
    "    merge_distances = np.zeros(num_points - 1)\n",
    "    # main loop. at each step we are identifying and merging two closest clusters (wrt linkage function)\n",
    "    for i in range(0, num_points - 1):\n",
    "        c1_id, c2_id, distance = find_clusters_to_merge(clusters, dist_col_id, clust_col_id)\n",
    "        # if threshold is set, we don't merge any further if we reached the desired max distance for merging\n",
    "        if threshold is not None and distance > threshold:\n",
    "            break\n",
    "        merge_distances[i] = distance\n",
    "        merge_func(c1_id, c2_id, X_data, clusters, dist_col_id, clust_col_id, distances_matrix)\n",
    "        # uncomment when testing\n",
    "        # print(\"Merging clusters #\", c1_id, c2_id)\n",
    "        # if i%30 == 0:\n",
    "        #     for k, (marker, color) in zip(range(num_points), itertools.product(markers, colormap)):\n",
    "        #         plt.scatter(X_data[X_data[:, 2] == k, 0], X_data[X_data[:, 2] == k, 1], color=color, marker=marker, label=k)\n",
    "        #     plt.show()\n",
    "\n",
    "    # todo use the plot below to find the optimal threshold to stop merging clusters\n",
    "    plt.plot(np.arange(0, num_points - 1, 1), merge_distances[:num_points - 1])\n",
    "    plt.title(\"Merge distances over iterations\")\n",
    "    plt.xlabel(\"Iteration #\")\n",
    "    plt.ylabel(\"Distance\")\n",
    "    plt.show()\n",
    "\n",
    "    for k, (marker, color) in zip(range(num_points), itertools.product(markers, colormap)):\n",
    "        plt.scatter(X_data[X_data[:, 2] == k, 0], X_data[X_data[:, 2] == k, 1], color=color, marker=marker)\n",
    "    plt.title('Clusters of customers')\n",
    "    plt.xlabel('Annual Income (k$)')\n",
    "    plt.ylabel('Spending Score (1-100)')\n",
    "    plt.show()\n",
    "#End of bottom_up_clustering"
   ]
  },
  {
   "cell_type": "code",
   "execution_count": null,
   "metadata": {},
   "outputs": [],
   "source": [
    "bottom_up_clustering(single_link_merge, X, distances, threshold=None)"
   ]
  }
 ],
 "metadata": {
  "kernelspec": {
   "display_name": "Python 3",
   "language": "python",
   "name": "python3"
  },
  "language_info": {
   "codemirror_mode": {
    "name": "ipython",
    "version": 3
   },
   "file_extension": ".py",
   "mimetype": "text/x-python",
   "name": "python",
   "nbconvert_exporter": "python",
   "pygments_lexer": "ipython3",
   "version": "3.7.6"
  }
 },
 "nbformat": 4,
 "nbformat_minor": 2
}
